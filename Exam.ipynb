{
 "cells": [
  {
   "cell_type": "markdown",
   "id": "59ced39a-8e44-4440-9364-5f5fffad22dd",
   "metadata": {},
   "source": [
    "## Question:1\n",
    "\n",
    "### Part: 1\n",
    "Write a Python function named analyze_file that takes the name of a\r\n",
    "file as input and returns a dictionary containing the counts of characters,\r\n",
    "words, and lines in that file.\n"
   ]
  },
  {
   "cell_type": "code",
   "execution_count": 16,
   "id": "5d50a0ec-e60c-4b8c-9399-b966df6c969d",
   "metadata": {},
   "outputs": [
    {
     "name": "stdout",
     "output_type": "stream",
     "text": [
      "File not found\n"
     ]
    }
   ],
   "source": [
    "def analyze_file(fname):\n",
    "    #variables stores total count\n",
    "    num_word = 0 \n",
    "    num_lines = 0\n",
    "    num_characters = 0\n",
    "    num_spaces = 0\n",
    "\n",
    "    \n",
    "    with open (fname, 'r') as f: #Open file using method \n",
    "        for line in f:\n",
    "            num_lines += 1 \n",
    "            word = \"A\"\n",
    "\n",
    "        for letter in line: # Using  For Loop\n",
    "            if(word != ' ' and word == 'A'):\n",
    "                num_word += 1\n",
    "                word = \"B\"\n",
    "\n",
    "            elif (letter == ' '):\n",
    "                num_spaces += 1\n",
    "                word = \"A\"\n",
    "\n",
    "        for i in letter:\n",
    "            if(i !=\" \" and i !=\"\\n\"):\n",
    "                num_charc += 1\n",
    "\n",
    "    print(\"Number of words in text file\", num_word)\n",
    "\n",
    "    print(\"Number of words in text file\", num_lines)\n",
    "\n",
    "    print(\"Number of words in text file\", num_characters)\n",
    "\n",
    "    print(\"Number of words in text file\", num_spaces)\n",
    "fname = 'File.txt'\n",
    "\n",
    "if fname == 'File1.txt':\n",
    "\tprint(\"File Found\")\n",
    "else:\n",
    "\tprint('File not found')"
   ]
  },
  {
   "cell_type": "markdown",
   "id": "2836c6c6-5099-430a-b44f-d8ec9c56da23",
   "metadata": {},
   "source": [
    "### Part: 2\n",
    "\n",
    "Write another Python function named search_word that takes the name\r\n",
    "of a file and a word as input and returns the count of occurrences of that\r\n",
    "word in the file."
   ]
  },
  {
   "cell_type": "code",
   "execution_count": 14,
   "id": "c4f366e2-baa0-4420-b53c-2310c5cc4990",
   "metadata": {},
   "outputs": [
    {
     "name": "stdout",
     "output_type": "stream",
     "text": [
      "hello, : 1\n",
      "my : 1\n",
      "name : 1\n",
      "is : 1\n",
      "muhammad : 1\n",
      "umair : 1\n"
     ]
    }
   ],
   "source": [
    "text = open(\"file.txt\", \"r\") \n",
    "d = dict() \n",
    "\n",
    "#loop each line of file in text\n",
    "for line in text:\n",
    "    line = line.strip()\n",
    "    line = line.lower()\n",
    "    words = line.split(\" \") \n",
    "\n",
    "for word in words: \n",
    "\t\tif word in d: \n",
    "\t\t\td[word] = d[word] + 1\n",
    "\t\telse: \n",
    "\t\t\td[word] = 1\n",
    "\n",
    "#printing  the content of dictionary\n",
    "for key in list(d.keys()): \n",
    "\tprint(key, \":\", d[key]) "
   ]
  },
  {
   "cell_type": "code",
   "execution_count": null,
   "id": "94a26725-cb0a-4d16-9682-ecb0286c12d1",
   "metadata": {},
   "outputs": [],
   "source": []
  },
  {
   "cell_type": "markdown",
   "id": "56cd6c3f-82c0-499f-9628-9590dc1892c7",
   "metadata": {},
   "source": [
    "## Question: 2"
   ]
  },
  {
   "cell_type": "markdown",
   "id": "f092fa6a-a7e2-4ee3-9b1e-0c48cfb10149",
   "metadata": {},
   "source": [
    "## Part: 1\n",
    "### Create a base class named Book:"
   ]
  },
  {
   "cell_type": "code",
   "execution_count": 62,
   "id": "0bdc42ea-53fa-4a36-acdf-fdb8ca5bc414",
   "metadata": {},
   "outputs": [
    {
     "name": "stdout",
     "output_type": "stream",
     "text": [
      "Book 1 The Intro to python, Borrowed: True\n",
      "Book 2 Pakistan Independance, Borrowed: True\n"
     ]
    }
   ],
   "source": [
    "class Book:\n",
    "    def __init__(self, title, author, isbn):\n",
    "        self.title = title\n",
    "        self.author = author\n",
    "        self.isbn = isbn\n",
    "        self.is_borrowed = True\n",
    "    \n",
    "    def borrow(self):\n",
    "            self.is_borrowed = True\n",
    "\n",
    "    \n",
    "    def return_book(self):\n",
    "            self.is_borrowed = False\n",
    "\n",
    "\n",
    "book1 = Book(\"The Intro to python\", \"Qasim Hassan\", \"27-10-2024\")\n",
    "book2 = Book(\"Pakistan Independance\", \"Umair Akram\", \"20-10-2023\")\n",
    "\n",
    "print(f\"Book 1 {book1.title}, Borrowed: {book1.is_borrowed}\")\n",
    "print(f\"Book 2 {book2.title}, Borrowed: {book2.is_borrowed}\")"
   ]
  },
  {
   "cell_type": "markdown",
   "id": "e960059d-dd8f-461d-9fa5-5f6902a45dc3",
   "metadata": {},
   "source": [
    "## Part: 2\n",
    "### Create a subclass named DigitalBook that inherits from Book:"
   ]
  },
  {
   "cell_type": "code",
   "execution_count": 53,
   "id": "249af5e2-4d02-4470-a369-6d82cbd60f02",
   "metadata": {},
   "outputs": [
    {
     "name": "stdout",
     "output_type": "stream",
     "text": [
      "The Intro to python and file format is PDF\n"
     ]
    }
   ],
   "source": [
    "class DigitalBook(Book):\n",
    "    def __init__(self, title, author, isbn, file_format):\n",
    "        super().__init__(title, author, isbn)\n",
    "        self.file_format = file_format\n",
    "    \n",
    "    def borrow(self):\n",
    "        super().borrow()\n",
    "        if self.is_borrowed:\n",
    "            print(f\"The digital book '{self.title}' is available for online in {self.file_format}\")\n",
    "\n",
    "ebook1 = DigitalBook(\"The Intro to python\", \"Qasim Hassan\", \"27-10-2024\", \"PDF\")\n",
    "print(f\"{ebook1.title} and file format is PDF\")"
   ]
  },
  {
   "cell_type": "markdown",
   "id": "c261e7af-09b9-48ac-b43a-7c5f7072ef99",
   "metadata": {},
   "source": [
    "## Part: 3\n",
    "### Create another subclass named AudioBook that inherits from Book:\r"
   ]
  },
  {
   "cell_type": "code",
   "execution_count": 56,
   "id": "34f284b4-81cc-4032-b2d2-0d571f98d654",
   "metadata": {},
   "outputs": [
    {
     "name": "stdout",
     "output_type": "stream",
     "text": [
      "The digital book 'The Intro to Python' is available for online in PDF\n"
     ]
    }
   ],
   "source": [
    "class AudioBook(Book):\n",
    "    def __init__(self, title, author, isbn, duration):\n",
    "        super().__init__(title, author, isbn)\n",
    "        self.duration = duration\n",
    "    \n",
    "    def borrow(self):\n",
    "        super().borrow()\n",
    "        if self.is_borrowed:\n",
    "            print(f\"The audiobook '{self.title}' is available for streaming. Duration: {self.duration} hours.\")\n",
    "\n",
    "\n",
    "\n",
    "ebook1 = DigitalBook(\"The Intro to Python\", \"Qasim Hassan\", \"27-10-2024\", \"PDF\")\n",
    "ebook1.borrow()\n"
   ]
  },
  {
   "cell_type": "markdown",
   "id": "c4ef23a9-fdf3-4b02-9e17-533954f49034",
   "metadata": {},
   "source": [
    "## Part: 4\n",
    "### Create a class named User:"
   ]
  },
  {
   "cell_type": "code",
   "execution_count": 3,
   "id": "fba4c348-df70-4cf7-8b7d-08bc8ca74618",
   "metadata": {},
   "outputs": [
    {
     "name": "stdout",
     "output_type": "stream",
     "text": [
      "User 'Umair' registered successfully.\n"
     ]
    }
   ],
   "source": [
    "class Book:\n",
    "    def __init__(self, title):\n",
    "        self.title = title\n",
    "        self.is_borrowed = False\n",
    "\n",
    "    def borrow(self):\n",
    "        self.is_borrowed = True\n",
    "\n",
    "    def return_book(self):\n",
    "        self.is_borrowed = False\n",
    "\n",
    "class User:\n",
    "    def __init__(self, user_id, name):\n",
    "        self.user_id = user_id\n",
    "        self.name = name\n",
    "        self.__borrowed_books = []\n",
    "\n",
    "    def borrow_book(self, book):\n",
    "        if not book.is_borrowed:\n",
    "            book.borrow()\n",
    "            self.__borrowed_books.append(book)\n",
    "        else:\n",
    "            print(f\"Cannot borrow '{book.title}'. It is already borrowed.\")\n",
    "\n",
    "    def return_book(self, book):\n",
    "        if book in self.__borrowed_books:\n",
    "            book.return_book()\n",
    "            self.__borrowed_books.remove(book)\n",
    "        else:\n",
    "            print(f\"Cannot return '{book.title}'. It was not borrowed by {self.name}.\")\n",
    "\n",
    "class Library:\n",
    "    def __init__(self):\n",
    "        self.registered_users = []\n",
    "\n",
    "    def register_user(self, user):\n",
    "        self.registered_users.append(user)\n",
    "        print(f\"User '{user.name}' registered successfully.\")\n",
    "\n",
    "library = Library()\n",
    "\n",
    "user1 = User(\"253812\", \"Umair\")\n",
    "library.register_user(user1)\n"
   ]
  },
  {
   "cell_type": "markdown",
   "id": "ce2b0306-693b-4243-9277-4feeaee3b374",
   "metadata": {},
   "source": [
    "## Part: 5\n",
    "### Create a class named Library"
   ]
  },
  {
   "cell_type": "code",
   "execution_count": 13,
   "id": "4a27dcbc-d160-4cf6-ab5d-0bd9f4560fa4",
   "metadata": {},
   "outputs": [
    {
     "name": "stdout",
     "output_type": "stream",
     "text": [
      "Book 'Urdu Ki Duniya' added to Central Library library.\n",
      "Book 'Pakistan Studies' added to Central Library library.\n",
      "User 'Ali' registered in Central Library library.\n",
      "User 'Fatima' registered in Central Library library.\n",
      "Ali borrowed Urdu Ki Duniya.\n",
      "Ali borrowed Pakistan Studies.\n",
      "Ali returned Urdu Ki Duniya.\n",
      "Fatima could not borrow Pakistan Studies as it is already borrowed.\n"
     ]
    }
   ],
   "source": [
    "# Base Book class\n",
    "class Book:\n",
    "    def __init__(self, title, author, isbn):\n",
    "        self.title = title\n",
    "        self.author = author\n",
    "        self.isbn = isbn\n",
    "        self.is_borrowed = False\n",
    "\n",
    "# User class\n",
    "class User:\n",
    "    def __init__(self, user_id, name):\n",
    "        self.user_id = user_id\n",
    "        self.name = name\n",
    "        self._borrowed_books = []\n",
    "\n",
    "    def borrow_book(self, book):\n",
    "        if not book.is_borrowed:\n",
    "            book.is_borrowed = True\n",
    "            self._borrowed_books.append(book)\n",
    "            print(f\"{self.name} borrowed {book.title}.\")\n",
    "        else:\n",
    "            print(f\"{self.name} could not borrow {book.title} as it is already borrowed.\")\n",
    "\n",
    "    def return_book(self, book):\n",
    "        if book in self._borrowed_books:\n",
    "            book.is_borrowed = False\n",
    "            self._borrowed_books.remove(book)\n",
    "            print(f\"{self.name} returned {book.title}.\")\n",
    "        else:\n",
    "            print(f\"{self.name} did not borrow {book.title}.\")\n",
    "\n",
    "# Library class\n",
    "class Library:\n",
    "    def __init__(self, name):\n",
    "        self.name = name\n",
    "        self.books = []\n",
    "        self.users = []\n",
    "\n",
    "    def add_book(self, book):\n",
    "        self.books.append(book)\n",
    "        print(f\"Book '{book.title}' added to {self.name} library.\")\n",
    "\n",
    "    def register_user(self, user):\n",
    "        self.users.append(user)\n",
    "        print(f\"User '{user.name}' registered in {self.name} library.\")\n",
    "\n",
    "    def lend_book(self, user_id, isbn):\n",
    "        user = next((u for u in self.users if u.user_id == user_id), None)\n",
    "        book = next((b for b in self.books if b.isbn == isbn), None)\n",
    "\n",
    "        if user and book:\n",
    "            user.borrow_book(book)\n",
    "        elif not user:\n",
    "            print(f\"No user found with ID {user_id}.\")\n",
    "        elif not book:\n",
    "            print(f\"No book found with ISBN {isbn}.\")\n",
    "\n",
    "    def receive_return(self, user_id, isbn):\n",
    "        user = next((u for u in self.users if u.user_id == user_id), None)\n",
    "        book = next((b for b in self.books if b.isbn == isbn), None)\n",
    "\n",
    "        if user and book:\n",
    "            user.return_book(book)\n",
    "        elif not user:\n",
    "            print(f\"No user found with ID {user_id}.\")\n",
    "        elif not book:\n",
    "            print(f\"No book found with ISBN {isbn}.\")\n",
    "\n",
    "\n",
    "library = Library(\"Central Library\")\n",
    "\n",
    "\n",
    "book1 = Book(\"Urdu Ki Duniya\", \"Ahmed Faraz\", \"12345\")\n",
    "book2 = Book(\"Pakistan Studies\", \"Iftikhar Arif\", \"67890\")\n",
    "library.add_book(book1)\n",
    "library.add_book(book2)\n",
    "\n",
    "user1 = User(\"u001\", \"Ali\")\n",
    "user2 = User(\"u002\", \"Fatima\")\n",
    "library.register_user(user1)\n",
    "library.register_user(user2)\n",
    "\n",
    "library.lend_book(\"u001\", \"12345\")  \n",
    "library.lend_book(\"u001\", \"67890\") \n",
    "library.receive_return(\"u001\", \"12345\")  \n",
    "library.lend_book(\"u002\", \"67890\")  \n"
   ]
  },
  {
   "cell_type": "code",
   "execution_count": null,
   "id": "bb45abe6-7ae9-439e-9239-a815c153c6b2",
   "metadata": {},
   "outputs": [],
   "source": []
  }
 ],
 "metadata": {
  "kernelspec": {
   "display_name": "Python 3 (ipykernel)",
   "language": "python",
   "name": "python3"
  },
  "language_info": {
   "codemirror_mode": {
    "name": "ipython",
    "version": 3
   },
   "file_extension": ".py",
   "mimetype": "text/x-python",
   "name": "python",
   "nbconvert_exporter": "python",
   "pygments_lexer": "ipython3",
   "version": "3.11.7"
  }
 },
 "nbformat": 4,
 "nbformat_minor": 5
}
